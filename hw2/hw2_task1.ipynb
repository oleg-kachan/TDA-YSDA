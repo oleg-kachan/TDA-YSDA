{
 "cells": [
  {
   "cell_type": "markdown",
   "id": "69531e91",
   "metadata": {},
   "source": [
    "## TDA@YSDA\n",
    "\n",
    "### Homework 2"
   ]
  },
  {
   "cell_type": "markdown",
   "id": "41074e10",
   "metadata": {},
   "source": [
    "### Задача 1: спектры Лапласианов (3 балла)\n",
    "\n",
    "В этой задаче требуется найти спектры Лапласианов Ходжа графа.\n",
    "\n",
    "Для этого предлагается самостоятельно реализовать наивный алгоритм нахождения операторов ко-границ.\n",
    "\n",
    "Для проверки будет генерироваться случайный граф (из модели Эрдеша-Реньи – то есть, наличие любого ребра в графе – это бернуллиевская случайная величина с вероятностью успеха $p$, не зависящая от других ребер).\n",
    "\n",
    "Гарантируется, что **граф связный**\n",
    "\n",
    "Граф будет подаваться на вход вашей функции в виде **списка ребер**."
   ]
  },
  {
   "cell_type": "code",
   "execution_count": 1,
   "id": "d12edd77",
   "metadata": {},
   "outputs": [
    {
     "name": "stdout",
     "output_type": "stream",
     "text": [
      "Edges list: [(0, 2), (0, 3), (0, 4), (1, 3), (1, 5), (1, 6), (2, 4), (2, 5), (3, 5), (4, 6)]\n"
     ]
    },
    {
     "data": {
      "image/png": "[encoded data removed]",
      "text/plain": [
       "<Figure size 432x288 with 1 Axes>"
      ]
     },
     "metadata": {},
     "output_type": "display_data"
    }
   ],
   "source": [
    "import networkx as nx\n",
    "\n",
    "g = nx.gnp_random_graph(n = 7, p = 0.4, seed = 42)\n",
    "\n",
    "nx.draw(g)\n",
    "\n",
    "print('Edges list:', g.edges())"
   ]
  },
  {
   "cell_type": "markdown",
   "id": "3cb1293c",
   "metadata": {},
   "source": [
    "#### Шаг 1: найти клики\n",
    "\n",
    "Напишите функцию `find_cliques()`, которая по данному на вход списку ребер в таком формате:\n",
    "\n",
    "`edges = [(0, 1), (0, 2), (1, 2), (0, 3)]`\n",
    "\n",
    "– для графа на N вершинах это список упорядоченных неповторяющихся пар вершин (вершины просто занумерованы числами от 0 до N-1), образующих ребро –\n",
    "\n",
    "**найдет** все клики (полные подграфы) в данном графе,\n",
    "\n",
    "и вернет список списков упорядоченных кортежей вершин, образующих клики:\n",
    "\n",
    "`simplices = [[(0,), (1,), (2,), (3,)], \n",
    "              [(0, 1), (0, 2), (1, 2), (0, 3)],\n",
    "              [(0, 1, 2)]]`\n",
    "              \n",
    "Это можно сделать и средствами стандартной библиотеки Python, но вообще можете использовать любые библиотеки."
   ]
  },
  {
   "cell_type": "code",
   "execution_count": null,
   "id": "df37d311",
   "metadata": {},
   "outputs": [],
   "source": [
    "# your code here"
   ]
  },
  {
   "cell_type": "markdown",
   "id": "e5f85e38",
   "metadata": {},
   "source": [
    "#### Шаг 2: построить операторы ко-границ\n",
    "\n",
    "Зная весь кликовый комплекс графа, можно построить операторы ко-границ.\n",
    "\n",
    "В нашем случае это просто транспонированные (сопряженные) операторы границ, так что можно строить операторы, с которыми вы уже знакомы из первой половины курса.\n",
    "\n",
    "В нашем примере мы имеем:\n",
    "\n",
    "`simplices = [[(0,), (1,), (2,), (3,)], \n",
    "              [(0, 1), (0, 2), (1, 2), (0, 3)],\n",
    "              [(0, 1, 2)]]`\n",
    "\n",
    "4 0-симплекса (вершины), 4 1-симплекса (ребра), 1 2-симплекс (треугольник).\n",
    "\n",
    "Внутри своего списка все k-симплексы занумерованы. Тогда, например, оператор границы $\\partial_2$:\n",
    "\n",
    "$\\partial_2 ((0,1,2)) = (\\hat{0},1,2) - (0,\\hat{1},2) + (0,1,\\hat{2}) = (1,2) - (0,2) + (0,1)$\n",
    "\n",
    "имеет вид\n",
    "\n",
    "$\\partial_2 = \n",
    "\\begin{matrix}(0,1) \\\\ (0,2) \\\\ (1,2) \\\\ (0,3)\\end{matrix}\n",
    "\\overset{(0,1,2)}{\\begin{pmatrix} 1 \\\\ -1 \\\\ 1 \\\\ 0\\end{pmatrix}}.$\n",
    "\n",
    "Так можно построить матрицы операторов границы:\n",
    "\n",
    "1. инициализируем ее как матрицу из нулей размера (# (k-1)-симплексов)x(# k-симплексов)\n",
    "2. для каждого k-симплекса (в списке k-симплексов) проходимся по списку всех (k-1)-симплексов, проверяем, являются ли они подмножеством данного k-симплекса, и если да – то исключением какого его элемента они даются, четного или нечетного – в зависимости от этого ставим +1 или -1 в матрицу на соответствующем месте\n",
    "\n",
    "Соответствующий оператор ко-границы $\\delta_2 : L^2_\\wedge(K_2)\\to L^2_\\wedge(K_{3})$\n",
    "$= \\partial^T_2$ – это просто транспонированный $\\partial_2$.\n",
    "\n",
    "k-й лапласиан Ходжа – это:\n",
    "\n",
    "$$\\Delta^{~}_k = \\delta^{~}_{k-1}\\delta^T_{k-1} + \\delta^T_{k}\\delta^{~}_{k}$$"
   ]
  },
  {
   "cell_type": "code",
   "execution_count": null,
   "id": "622d7132",
   "metadata": {},
   "outputs": [],
   "source": [
    "# your code here"
   ]
  },
  {
   "cell_type": "markdown",
   "id": "a216b733",
   "metadata": {},
   "source": [
    "#### Шаг 3: найдите спектры Лапласианов\n",
    "\n",
    "Лапласианы – это эрмитовы матрицы, потому для нахождения их собственных чисал можно пользоваться, например, `numpy.linalg.eigh`.\n",
    "\n",
    "**Ответом** на задачу является матрица из собственных значений всех ненулевых Лапласианов Ходжа данного на вход графа. \n",
    "\n",
    "$$A = \\begin{pmatrix}\\lambda^{(0)}_\\min & ... \\\\\n",
    "\\lambda^{(1)}_\\min & ... \\\\ \n",
    "... & ...\\\\\n",
    "\\lambda^{(m)}_\\min & ...\n",
    "\\end{pmatrix}$$\n",
    "\n",
    "Т.е. k-ая строчка матрицы = спектр k-ого Лапласиана, записанный **в порядке возрастания собственных чисел** (они не могут быть неотрицательными, потому первые несколько из них с численной точностью равны нулю, остальные – положительны). \n",
    "\n",
    "Размерность k-ого Лапласиана – это (# k-симплексов)x(# k-симплексов) – потому число столбцов матрицы = максимальная из размерностей Лапласианов, к спектрам меньших размерностей **дописываем справа нули**.\n",
    "\n",
    "Так, у графа в нашем примере это \n",
    "\n",
    "$$\n",
    "\\begin{pmatrix}\\lambda^{(0)}_{0=\\min} & \\lambda^{(0)}_1 & \\lambda^{(0)}_2 & \\lambda^{(0)}_{4=\\max} \\\\\n",
    "\\lambda^{(1)}_{0=\\min} & \\lambda^{(1)}_1 & \\lambda^{(1)}_2 & \\lambda^{(1)}_{4=\\max} \\\\ \n",
    "\\lambda^{(2)}_{0} & 0 & 0 & 0\\\\\n",
    "\\end{pmatrix}\n",
    "$$\n",
    "\n",
    "Матричные элементы давайте **округлять до 3 знаков после запятой** – это можно сделать `numpy.round(A, 3)`."
   ]
  },
  {
   "cell_type": "code",
   "execution_count": null,
   "id": "1fb0bdf5",
   "metadata": {},
   "outputs": [],
   "source": [
    "# your code here"
   ]
  }
 ],
 "metadata": {
  "kernelspec": {
   "display_name": "Python 3 (ipykernel)",
   "language": "python",
   "name": "python3"
  },
  "language_info": {
   "codemirror_mode": {
    "name": "ipython",
    "version": 3
   },
   "file_extension": ".py",
   "mimetype": "text/x-python",
   "name": "python",
   "nbconvert_exporter": "python",
   "pygments_lexer": "ipython3",
   "version": "3.10.2"
  }
 },
 "nbformat": 4,
 "nbformat_minor": 5
}
