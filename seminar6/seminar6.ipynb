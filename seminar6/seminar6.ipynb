{
 "cells": [
  {
   "cell_type": "markdown",
   "id": "29c39956",
   "metadata": {},
   "source": [
    "# TDA@YSDA\n",
    "## Seminar 6\n",
    "\n",
    "In the following we consider examples from\n",
    "\n",
    "A Topology Layer for Machine Learning  \n",
    "Brüel-Gabrielsson et al. _International Conference on Artificial Intelligence and Statistics (2020)_\n",
    "\n",
    "\n",
    "https://github.com/bruel-gabrielsson/TopologyLayer."
   ]
  },
  {
   "cell_type": "code",
   "execution_count": null,
   "id": "7874f713",
   "metadata": {},
   "outputs": [],
   "source": [
    "!pip install git+https://github.com/bruel-gabrielsson/TopologyLayer.git"
   ]
  },
  {
   "cell_type": "code",
   "execution_count": null,
   "id": "468f9239",
   "metadata": {},
   "outputs": [],
   "source": [
    "import matplotlib.pyplot as plt\n",
    "import numpy as np\n",
    "\n",
    "import torch\n",
    "import torch.nn as nn\n",
    "from topologylayer.nn import AlphaLayer, BarcodePolyFeature\n",
    "from topologylayer.nn import LevelSetLayer2D, SumBarcodeLengths, PartialSumBarcodeLengths"
   ]
  },
  {
   "cell_type": "markdown",
   "id": "8c592901",
   "metadata": {},
   "source": [
    "### Point cloud optimization"
   ]
  },
  {
   "cell_type": "code",
   "execution_count": null,
   "id": "a19c77f1",
   "metadata": {},
   "outputs": [],
   "source": [
    "# random pointcloud\n",
    "data = np.random.rand(100, 2)"
   ]
  },
  {
   "cell_type": "code",
   "execution_count": null,
   "id": "16645b27",
   "metadata": {},
   "outputs": [],
   "source": [
    "# optimization to increase size of holes\n",
    "layer = AlphaLayer(maxdim=1)\n",
    "x = torch.autograd.Variable(torch.tensor(data).type(torch.float), requires_grad=True)\n",
    "f1 = BarcodePolyFeature(1,2,0)\n",
    "optimizer = torch.optim.Adam([x], lr=1e-2)\n",
    "for i in range(100):\n",
    "    optimizer.zero_grad()\n",
    "    loss = -f1(layer(x))\n",
    "    loss.backward()\n",
    "    optimizer.step()\n",
    "    \n",
    "x = x.detach().numpy()"
   ]
  },
  {
   "cell_type": "code",
   "execution_count": null,
   "id": "98fb7ba7",
   "metadata": {},
   "outputs": [],
   "source": [
    "fig, ax = plt.subplots(nrows=1, ncols=2, figsize=(12, 5.75))\n",
    "ax[0].set_title(\"Before\")\n",
    "ax[1].set_title(\"After\")\n",
    "ax[0].scatter(data[:,0], data[:,1])\n",
    "ax[1].scatter(x[:,0], x[:,1])\n",
    "plt.show()"
   ]
  },
  {
   "cell_type": "markdown",
   "id": "5ad5c55d",
   "metadata": {},
   "source": [
    "### Level set optimization"
   ]
  },
  {
   "cell_type": "code",
   "execution_count": null,
   "id": "4239ee75",
   "metadata": {},
   "outputs": [],
   "source": [
    "class TopLoss(nn.Module):\n",
    "    def __init__(self, size):\n",
    "        super(TopLoss, self).__init__()\n",
    "        self.pdfn = LevelSetLayer2D(size=size,  sublevel=False)\n",
    "        self.topfn = PartialSumBarcodeLengths(dim=1, skip=1) # penalize more than 1 hole\n",
    "        self.topfn2 = SumBarcodeLengths(dim=0) # penalize more than 1 max\n",
    "\n",
    "    def forward(self, beta):\n",
    "        dgminfo = self.pdfn(beta)\n",
    "        return self.topfn(dgminfo) + self.topfn2(dgminfo)"
   ]
  },
  {
   "cell_type": "code",
   "execution_count": null,
   "id": "4b82cde8",
   "metadata": {},
   "outputs": [],
   "source": [
    "# generate circle on grid\n",
    "n = 50\n",
    "def circlefn(i, j, n):\n",
    "    r = np.sqrt((i - n/2.)**2 + (j - n/2.)**2)\n",
    "    return np.exp(-(r - n/3.)**2/(n*2))\n",
    "\n",
    "\n",
    "def gen_circle(n):\n",
    "    beta = np.empty((n,n))\n",
    "    for i in range(n):\n",
    "        for j in range(n):\n",
    "            beta[i,j] = circlefn(i,j,n)\n",
    "    return beta\n",
    "\n",
    "beta = gen_circle(n)"
   ]
  },
  {
   "cell_type": "code",
   "execution_count": null,
   "id": "40e0cec5",
   "metadata": {},
   "outputs": [],
   "source": [
    "m = 1500\n",
    "X = np.random.randn(m, n**2)\n",
    "y = X.dot(beta.flatten()) + 0.05*np.random.randn(m)\n",
    "beta_ols = (np.linalg.lstsq(X, y, rcond=None)[0]).reshape(n,n)"
   ]
  },
  {
   "cell_type": "code",
   "execution_count": null,
   "id": "6ca2f820",
   "metadata": {},
   "outputs": [],
   "source": [
    "tloss = TopLoss((50,50)) # topology penalty\n",
    "dloss = nn.MSELoss() # data loss\n",
    "\n",
    "beta_t = torch.autograd.Variable(torch.tensor(beta_ols).type(torch.float), requires_grad=True)\n",
    "X_t = torch.tensor(X, dtype=torch.float, requires_grad=False)\n",
    "y_t = torch.tensor(y, dtype=torch.float, requires_grad=False)\n",
    "optimizer = torch.optim.Adam([beta_t], lr=1e-2)\n",
    "for i in range(500):\n",
    "    optimizer.zero_grad()\n",
    "    tlossi = tloss(beta_t)\n",
    "    dlossi = dloss(y_t, torch.matmul(X_t, beta_t.view(-1)))\n",
    "    loss = 0.1*tlossi + dlossi\n",
    "    loss.backward()\n",
    "    optimizer.step()\n",
    "    if (i % 10 == 0):\n",
    "        print(i, tlossi.item(), dlossi.item())\n",
    "        \n",
    "beta_est = beta_t.detach().numpy()"
   ]
  },
  {
   "cell_type": "code",
   "execution_count": null,
   "id": "8af2cc83",
   "metadata": {},
   "outputs": [],
   "source": [
    "fig, ax = plt.subplots(ncols=3, figsize=(16,5))\n",
    "ax[0].imshow(beta)\n",
    "ax[0].set_title(\"Truth\")\n",
    "ax[1].imshow(beta_ols)\n",
    "ax[1].set_title(\"OLS\")\n",
    "ax[2].imshow(beta_est)\n",
    "ax[2].set_title(\"Topology Regularization\")\n",
    "for i in range(3):\n",
    "    ax[i].set_yticklabels([])\n",
    "    ax[i].set_xticklabels([])\n",
    "    ax[i].tick_params(bottom=False, left=False)"
   ]
  },
  {
   "cell_type": "markdown",
   "id": "a95d9ce9",
   "metadata": {},
   "source": [
    "### Quantifying point clouds (2 points)\n",
    "\n",
    "#### Geometry score\n",
    "\n",
    "Consider sklearn `digits` dataset. Consider a dimensionality reduction method of your choice - PCA, Isomap, autoencoder to reduce the dimensionality of data to the lower-dimensional space. Compute and plot the $\\mathrm{RLT}^1$ distributions for the data in the original $\\mathcal{X}$ and low-dimensional $\\mathcal{Z}$ spaces along with Geometry Score $\\mathrm{GS}(X, Z)$. Plot the graph of $\\mathrm{GS}(X, Z)$ against various choices of the dimension of $\\mathcal{Z}$, and, if compatible with your method, plot the graph of $\\mathrm{GS}(X, Z)$ against the optimization step."
   ]
  },
  {
   "cell_type": "code",
   "execution_count": null,
   "id": "4fc0388e",
   "metadata": {},
   "outputs": [],
   "source": [
    "# your code here"
   ]
  },
  {
   "cell_type": "markdown",
   "id": "e23ea860",
   "metadata": {},
   "source": [
    "#### Manifold topology divergence\n",
    "\n",
    "Implement the same for $\\mathrm{MTop-Div}(X, Z)$."
   ]
  },
  {
   "cell_type": "code",
   "execution_count": null,
   "id": "a56d48f3",
   "metadata": {},
   "outputs": [],
   "source": [
    "# your code here"
   ]
  }
 ],
 "metadata": {
  "kernelspec": {
   "display_name": "Python 3 (ipykernel)",
   "language": "python",
   "name": "python3"
  },
  "language_info": {
   "codemirror_mode": {
    "name": "ipython",
    "version": 3
   },
   "file_extension": ".py",
   "mimetype": "text/x-python",
   "name": "python",
   "nbconvert_exporter": "python",
   "pygments_lexer": "ipython3",
   "version": "3.10.2"
  }
 },
 "nbformat": 4,
 "nbformat_minor": 5
}
